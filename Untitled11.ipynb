{
 "cells": [
  {
   "cell_type": "code",
   "execution_count": null,
   "id": "801316b5-6e70-4f49-9bed-4348b03ed388",
   "metadata": {},
   "outputs": [],
   "source": [
    "Q1: What are the Probability Mass Function (PMF) and Probability Density Function (PDF)? Explain with\n",
    "an example."
   ]
  },
  {
   "cell_type": "code",
   "execution_count": null,
   "id": "9dceda7b-a68e-4011-b24c-b2f4f3c1b0c9",
   "metadata": {},
   "outputs": [],
   "source": [
    "*The PMF is a function that gives the probability of a discrete random variable taking on a specific value. For each possible \n",
    "value of the discrete random variable, the PMF provides the corresponding probability. \n",
    " It represents the discrete probability distribution.\n",
    "example;- \n",
    "Consider the roll of a fair six-sided die. The random variable X represents the outcome of the roll, which can take on values \n",
    " from 1 to 6 with equal probabilities. The PMF of X would be as follows:\n",
    "P(X = 1) = 1/6\n",
    "P(X = 2) = 1/6\n",
    "P(X = 3) = 1/6\n",
    "P(X = 4) = 1/6\n",
    "P(X = 5) = 1/6\n",
    "P(X = 6) = 1/6  \n",
    "\n",
    "\n",
    "*The PDF is a function that gives the probability density of a continuous random variable at a specific point. Unlike the PMF,\n",
    "which deals with discrete random variables, the PDF is used for continuous random variables. It represents the continuous \n",
    "probability distribution.\n",
    "example:-\n",
    "Consider the height of adult males in a population. The random variable X represents the height, which is a \n",
    "a continuous variable. The PDF of X would be a smooth curve that describes the probability density of different height \n",
    "values in the population.\n"
   ]
  },
  {
   "cell_type": "code",
   "execution_count": null,
   "id": "fc0f4890-2633-4c73-bccc-ad337fb68ab7",
   "metadata": {},
   "outputs": [],
   "source": [
    "Q2: What is Cumulative Density Function (CDF)? Explain with an example. Why CDF is used?"
   ]
  },
  {
   "cell_type": "code",
   "execution_count": null,
   "id": "64133d86-571f-46ec-bd17-00fcbc6e29f0",
   "metadata": {},
   "outputs": [],
   "source": [
    "The Cumulative Distribution Function (CDF) is a function that gives the probability that a random variable is less than\n",
    "or equal to a specific value. It provides a complete picture of the probability distribution of a random variable, \n",
    "whether it is discrete or continuous. The CDF is a fundamental concept in probability theory and statistics.\n",
    "\n",
    "Let's consider the roll of a fair six-sided die again. The random variable X represents the outcome of the roll. The CDF \n",
    "of X would be as follows:\n",
    "\n",
    "For a discrete random variable like a fair die, the CDF is a step function, as the probabilities jump at specific values.\n",
    " For example:\n",
    "F(1) = P(X ≤ 1) = 1/6\n",
    "F(2) = P(X ≤ 2) = 2/6 = 1/3\n",
    "F(3) = P(X ≤ 3) = 3/6 = 1/2\n",
    "F(4) = P(X ≤ 4) = 4/6 = 2/3\n",
    "F(5) = P(X ≤ 5) = 5/6\n",
    "F(6) = P(X ≤ 6) = 1\n",
    "\n",
    "Why CDF is Used:\n",
    "    Calculating probabilities\n",
    "    Quantile determination\n",
    "    Comparing distributions\n",
    "    Hypothesis testing"
   ]
  },
  {
   "cell_type": "code",
   "execution_count": null,
   "id": "19965d2e-5aca-4122-b2ff-4aa9d49b6739",
   "metadata": {},
   "outputs": [],
   "source": [
    "Q3: What are some examples of situations where the normal distribution might be used as a model?\n",
    "Explain how the parameters of the normal distribution relate to the shape of the distribution."
   ]
  },
  {
   "cell_type": "code",
   "execution_count": null,
   "id": "d0d77330-0d0b-4e42-a115-b02e907afcff",
   "metadata": {},
   "outputs": [],
   "source": [
    "Some examples of situations where the normal distribution might be used as a model :-\n",
    "Measurement Errors\n",
    "Biological Traits\n",
    "Quality Control\n",
    "\n",
    "\n",
    "Mean (μ): The mean is the center of the normal distribution and represents the average value of the data.\n",
    " It also corresponds to the peak of the distribution, around which the data is symmetrically distributed.\n",
    "     Shifting the mean to the right or left results in a translation of the entire distribution without changing its shape.\n",
    "\n",
    "Standard Deviation (σ): The standard deviation measures the spread or dispersion of the data around the mean. \n",
    " A larger standard deviation results in a wider and flatter distribution, while a smaller standard deviation results \n",
    "     in a narrower and taller distribution."
   ]
  },
  {
   "cell_type": "code",
   "execution_count": null,
   "id": "77fbb106-cdcb-42f6-8662-c7fb2efc8244",
   "metadata": {},
   "outputs": [],
   "source": [
    "Q4: Explain the importance of Normal Distribution. Give a few real-life examples of Normal\n",
    "Distribution."
   ]
  },
  {
   "cell_type": "code",
   "execution_count": null,
   "id": "03954b83-df65-43cb-a2d8-992837a1a2da",
   "metadata": {},
   "outputs": [],
   "source": [
    "The normal distribution is of paramount importance in statistics and data analysis due to its many desirable properties and \n",
    " its ability to model a wide range of natural phenomena and real-world processes.\n",
    "examples:-\n",
    ". Height of Adults\n",
    ". IQ Scores\n",
    ". Measurement Errors\n",
    ". Test Scores"
   ]
  },
  {
   "cell_type": "code",
   "execution_count": null,
   "id": "5b8f07c7-3d21-47e1-b4a8-3317034d8513",
   "metadata": {},
   "outputs": [],
   "source": [
    "Q5: What is Bernaulli Distribution? Give an Example. What is the difference between Bernoulli\n",
    "Distribution and Binomial Distribution?"
   ]
  },
  {
   "cell_type": "code",
   "execution_count": null,
   "id": "ce293d97-80fe-4dd4-b17b-ed6b1a74aeed",
   "metadata": {},
   "outputs": [],
   "source": [
    "The Bernoulli distribution is a discrete probability distribution that models a random experiment with only two possible \n",
    "outcomes: success (usually denoted by 1) or failure (usually denoted by 0). \n",
    "An example of the Bernoulli distribution is modeling the outcome of a single coin toss. \n",
    "\n",
    "Bernoulli Distribution: The Bernoulli distribution models a single trial or experiment with two possible outcome\n",
    "(success or failure).\n",
    "    \n",
    "Binomial Distribution: The Binomial distribution models the number of successes in a fixed number of independent \n",
    " Bernoulli trials. It involves multiple trials with each trial having the same probability of success (p).\n"
   ]
  },
  {
   "cell_type": "code",
   "execution_count": null,
   "id": "166c5ac0-e519-4273-ad54-d43bf937b247",
   "metadata": {},
   "outputs": [],
   "source": [
    "Q6. Consider a dataset with a mean of 50 and a standard deviation of 10. If we assume that the dataset\n",
    "is normally distributed, what is the probability that a randomly selected observation will be greater\n",
    "than 60? Use the appropriate formula and show your calculations."
   ]
  },
  {
   "cell_type": "code",
   "execution_count": 2,
   "id": "161078f6-3316-41a0-8f3f-4e85517b4581",
   "metadata": {},
   "outputs": [],
   "source": [
    "z=(60-50)/10\n",
    "z=1\n",
    "\n",
    "P(Z > 1) = 1 - P(Z ≤ 1)\n",
    "P(Z ≤ 1) is approximately 0.8413.\n",
    "P(Z > 1) = 1 - 0.8413 = 0.1587\n",
    "So, the probability is approximately 0.1587, or 15.87%."
   ]
  },
  {
   "cell_type": "code",
   "execution_count": null,
   "id": "de415ea3-264d-488a-b931-4f2dab34e48b",
   "metadata": {},
   "outputs": [],
   "source": [
    "Q7: Explain uniform Distribution with an example."
   ]
  },
  {
   "cell_type": "code",
   "execution_count": null,
   "id": "80209c1c-4615-47f2-8776-bd2f3e58c6d7",
   "metadata": {},
   "outputs": [],
   "source": [
    "The uniform distribution is a probability distribution that represents a continuous random variable with a constant \n",
    "probability density over a specified range.\n",
    "In a uniform distribution, every value within the range has an equal likelihood of occurring.\n",
    "It is often visualized as a flat and constant probability density function (PDF) across the entire range.\n",
    "\n",
    "exampel:-The number of candite sold daily at a shop is uniform distrinuted with a maximum of 40 and a minimum of 10\n",
    "1) probability of daily sales to fall between 15 and 30?\n",
    "    pr(15<=x<=30)=(x2-x1)*1/b-a\n",
    "                 =(30-15)*1/40-10\n",
    "                 =15*1/30\n",
    "                 =1/2\n",
    "                 =0.5\n",
    "                 =50%\n"
   ]
  },
  {
   "cell_type": "code",
   "execution_count": null,
   "id": "fffa7451-9629-42b2-9d66-2cb999cd30f9",
   "metadata": {},
   "outputs": [],
   "source": [
    "Q8: What is the z score? State the importance of the z score."
   ]
  },
  {
   "cell_type": "code",
   "execution_count": null,
   "id": "3edab055-1164-46d4-aaf8-9365d3f8686d",
   "metadata": {},
   "outputs": [],
   "source": [
    "The Z-score, also known as the standard score or standardized score, is a statistical measure that quantifies how many \n",
    " standard deviations a data point is away from the mean of the dataset. \n",
    "    \n",
    "    Importance of Z-score:\n",
    "    Standardization and Comparison,Identification of Outliers,Probability Calculations"
   ]
  },
  {
   "cell_type": "code",
   "execution_count": null,
   "id": "29cb2035-907c-4fe1-8f69-02549cf504de",
   "metadata": {},
   "outputs": [],
   "source": [
    "Q9: What is Central Limit Theorem? State the significance of the Central Limit Theorem."
   ]
  },
  {
   "cell_type": "code",
   "execution_count": null,
   "id": "a983d29f-8409-4fb0-8ec2-a6a76eedebc6",
   "metadata": {},
   "outputs": [],
   "source": [
    "The Central Limit Theorem (CLT) is a fundamental concept in statistics that states that the sampling distribution of the \n",
    "sample meanapproaches a normal distribution as the sample size increases, regardless of the shape of the original population \n",
    "distribution. This is true even if the original population distribution is not normally distributed.\n",
    "\n",
    "The Central Limit Theorem has significant importance in statistics and data analysis for several reasons:\n",
    "    Sampling Distribution of the Mean,Sample Size Determination,Hypothesis Testing"
   ]
  },
  {
   "cell_type": "code",
   "execution_count": null,
   "id": "3460c487-8396-439a-9997-a1a421323f31",
   "metadata": {},
   "outputs": [],
   "source": [
    "Q10: State the assumptions of the Central Limit Theorem."
   ]
  },
  {
   "cell_type": "code",
   "execution_count": null,
   "id": "14e71edb-fa17-4e53-a80a-c6700df0d71b",
   "metadata": {},
   "outputs": [],
   "source": [
    "The assumptions of the Central Limit Theorem are as follows:\n",
    "    *Independence: The individual observations in the sample must be independent of each other. \n",
    "    *Identically Distributed: The data points in the sample should be drawn from the same population, and they should have the \n",
    "    same probability distribution.\n",
    "    *Sample Size: The sample size should be sufficiently large."
   ]
  },
  {
   "cell_type": "code",
   "execution_count": null,
   "id": "e75ff4b2-2a6c-482a-8334-2d9a47952c05",
   "metadata": {},
   "outputs": [],
   "source": []
  },
  {
   "cell_type": "code",
   "execution_count": null,
   "id": "c989e5a9-c27b-463b-b21b-977a1848687b",
   "metadata": {},
   "outputs": [],
   "source": []
  }
 ],
 "metadata": {
  "kernelspec": {
   "display_name": "Python 3 (ipykernel)",
   "language": "python",
   "name": "python3"
  },
  "language_info": {
   "codemirror_mode": {
    "name": "ipython",
    "version": 3
   },
   "file_extension": ".py",
   "mimetype": "text/x-python",
   "name": "python",
   "nbconvert_exporter": "python",
   "pygments_lexer": "ipython3",
   "version": "3.10.8"
  }
 },
 "nbformat": 4,
 "nbformat_minor": 5
}
